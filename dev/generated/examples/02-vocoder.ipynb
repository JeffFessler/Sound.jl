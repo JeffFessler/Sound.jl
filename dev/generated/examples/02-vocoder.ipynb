{
 "cells": [
  {
   "cell_type": "markdown",
   "source": [
    "# Phase Vocoder\n",
    "\n",
    "This page illustrates the\n",
    "[phase vocoder](https://en.wikipedia.org/wiki/Phase_vocoder)\n",
    "feature of the Julia package\n",
    "[`Sound`](https://github.com/JeffFessler/Sound.jl)."
   ],
   "metadata": {}
  },
  {
   "cell_type": "markdown",
   "source": [
    "### Setup"
   ],
   "metadata": {}
  },
  {
   "cell_type": "markdown",
   "source": [
    "Packages needed here."
   ],
   "metadata": {}
  },
  {
   "outputs": [],
   "cell_type": "code",
   "source": [
    "using Sound: phase_vocoder, soundsc, hann\n",
    "using DSP: spectrogram\n",
    "using MIRTjim: jim, prompt\n",
    "using Plots: plot\n",
    "using InteractiveUtils: versioninfo"
   ],
   "metadata": {},
   "execution_count": null
  },
  {
   "cell_type": "markdown",
   "source": [
    "The following line is helpful when running this file as a script;\n",
    "this way it will prompt user to hit a key after each figure is displayed."
   ],
   "metadata": {}
  },
  {
   "outputs": [],
   "cell_type": "code",
   "source": [
    "isinteractive() ? jim(:prompt, true) : prompt(:draw);"
   ],
   "metadata": {},
   "execution_count": null
  },
  {
   "cell_type": "markdown",
   "source": [
    "## Overview\n",
    "\n",
    "Here we illustrate applying the phase vocoder\n",
    "to stretch time (by the default factor of 2)."
   ],
   "metadata": {}
  },
  {
   "outputs": [],
   "cell_type": "code",
   "source": [
    "S = 8192*2^2\n",
    "x1 = cos.(2π*400*(1:2S)/S) .* hann(2S)\n",
    "x2 = cos.(2π*300*(1:S)/S) .* hann(S)\n",
    "x3 = cos.(2π*500*(1:S)/S).^3 .* hann(S) # nonlinearity for harmonics\n",
    "x = [x1; x2; x3] # 4-note song\n",
    "y = phase_vocoder(x, S)\n",
    "length(x), length(y)"
   ],
   "metadata": {},
   "execution_count": null
  },
  {
   "cell_type": "markdown",
   "source": [
    "spectrograms"
   ],
   "metadata": {}
  },
  {
   "outputs": [],
   "cell_type": "code",
   "source": [
    "sx = spectrogram(x / maximum(abs, x); fs=S)\n",
    "sy = spectrogram(y / maximum(abs, y); fs=S)\n",
    "dB = x -> max(log10.(x), -10)\n",
    "fun = (s) -> jim(s.time, s.freq, dB.(s.power)', aspect_ratio = :auto,\n",
    "    color = :viridis, clim = (-10,0), yflip = false,\n",
    "    yaxis = (\"freq\", (0,1800), 0:300:1800),\n",
    "    xlabel=\"time\",\n",
    "    prompt = false,\n",
    ")\n",
    "p0 = jim(fun(sx), fun(sy))"
   ],
   "metadata": {},
   "execution_count": null
  },
  {
   "cell_type": "markdown",
   "source": [
    "listen to before/after:"
   ],
   "metadata": {}
  },
  {
   "outputs": [],
   "cell_type": "code",
   "source": [
    "isinteractive() && soundsc([x; y], S)"
   ],
   "metadata": {},
   "execution_count": null
  },
  {
   "cell_type": "markdown",
   "source": [
    "The following time plots\n",
    "show the original signal\n",
    "and the time-stretched version.\n",
    "Clearly something is awry."
   ],
   "metadata": {}
  },
  {
   "outputs": [],
   "cell_type": "code",
   "source": [
    "p1 = plot((1:length(x))/S, x, label=\"x(t) original\",\n",
    " xaxis = (\"t [s]\", (0, 4), 0:4),\n",
    " yaxis = (\"\", (-1, 1), -1:1),\n",
    " size = (600, 300),\n",
    ")\n",
    "ymax = ceil(maximum(abs, y)) # why not \"1\" ?\n",
    "p2 = plot((1:length(y))/S, y, label=\"y(t) processed\",\n",
    " xaxis = (\"t [s]\", (0, 8), 0:2:8),\n",
    " yaxis = (\"\", (-1, 1).*ymax, (-1:1)*ymax),\n",
    " size = (600, 300),\n",
    ")\n",
    "p12 = plot(p1, p2; layout=(2,1))"
   ],
   "metadata": {},
   "execution_count": null
  },
  {
   "cell_type": "markdown",
   "source": [
    "---\n",
    "\n",
    "*This notebook was generated using [Literate.jl](https://github.com/fredrikekre/Literate.jl).*"
   ],
   "metadata": {}
  }
 ],
 "nbformat_minor": 3,
 "metadata": {
  "language_info": {
   "file_extension": ".jl",
   "mimetype": "application/julia",
   "name": "julia",
   "version": "1.11.6"
  },
  "kernelspec": {
   "name": "julia-1.11",
   "display_name": "Julia 1.11.6",
   "language": "julia"
  }
 },
 "nbformat": 4
}
