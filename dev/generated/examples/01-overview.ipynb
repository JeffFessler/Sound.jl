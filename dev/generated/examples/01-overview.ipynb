{
 "cells": [
  {
   "cell_type": "markdown",
   "source": [
    "# Sound overview\n",
    "\n",
    "This page illustrates the Julia package\n",
    "[`Sound`](https://github.com/JeffFessler/Sound.jl)."
   ],
   "metadata": {}
  },
  {
   "cell_type": "markdown",
   "source": [
    "### Setup"
   ],
   "metadata": {}
  },
  {
   "cell_type": "markdown",
   "source": [
    "Packages needed here."
   ],
   "metadata": {}
  },
  {
   "outputs": [],
   "cell_type": "code",
   "source": [
    "using Sound\n",
    "using SampledSignals: SampleBuf\n",
    "using InteractiveUtils: versioninfo"
   ],
   "metadata": {},
   "execution_count": null
  },
  {
   "cell_type": "markdown",
   "source": [
    "### Overview\n",
    "\n",
    "The primary purpose of this package, at least initially,\n",
    "was to provide a simple way to hear audio signals in Julia."
   ],
   "metadata": {}
  },
  {
   "outputs": [],
   "cell_type": "code",
   "source": [
    "S = 8192 # sampling rate in Hz\n",
    "x = 0.7*cos.(2π*(1:S÷2)*440/S)\n",
    "y = 0.8*sin.(2π*(1:S÷2)*660/S)\n",
    "isinteractive() && sound(x, S) # monophonic"
   ],
   "metadata": {},
   "execution_count": null
  },
  {
   "cell_type": "markdown",
   "source": [
    "stereo:"
   ],
   "metadata": {}
  },
  {
   "outputs": [],
   "cell_type": "code",
   "source": [
    "isinteractive() && sound([x y], S)"
   ],
   "metadata": {},
   "execution_count": null
  },
  {
   "cell_type": "markdown",
   "source": [
    "scale to unit amplitude:"
   ],
   "metadata": {}
  },
  {
   "outputs": [],
   "cell_type": "code",
   "source": [
    "isinteractive() && soundsc([x y], S)"
   ],
   "metadata": {},
   "execution_count": null
  },
  {
   "cell_type": "markdown",
   "source": [
    "Using `SampleBuf` may provide some convenience."
   ],
   "metadata": {}
  },
  {
   "outputs": [],
   "cell_type": "code",
   "source": [
    "S = 8192 # sampling rate in Hz\n",
    "x = 0.7 * cos.(2π*(1:S÷2)*440/S)\n",
    "y = 0.8 * sin.(2π*(1:S÷2)*660/S)\n",
    "sb = SampleBuf([x y], S) # stereo data\n",
    "isinteractive() && sound(sb)"
   ],
   "metadata": {},
   "execution_count": null
  },
  {
   "cell_type": "markdown",
   "source": [
    "---\n",
    "\n",
    "*This notebook was generated using [Literate.jl](https://github.com/fredrikekre/Literate.jl).*"
   ],
   "metadata": {}
  }
 ],
 "nbformat_minor": 3,
 "metadata": {
  "language_info": {
   "file_extension": ".jl",
   "mimetype": "application/julia",
   "name": "julia",
   "version": "1.11.6"
  },
  "kernelspec": {
   "name": "julia-1.11",
   "display_name": "Julia 1.11.6",
   "language": "julia"
  }
 },
 "nbformat": 4
}
